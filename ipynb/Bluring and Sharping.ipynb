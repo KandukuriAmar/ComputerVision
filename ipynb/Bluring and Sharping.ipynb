{
 "cells": [
  {
   "cell_type": "code",
   "execution_count": 6,
   "id": "26ba1ce1",
   "metadata": {},
   "outputs": [],
   "source": [
    "import cv2\n",
    "import numpy as np\n",
    "\n",
    "img = cv2.imread(r\"C:/Users/kandu/Desktop/All sub/ComputerVision/ipynb/sololevel.jpg\")\n",
    "cv2.imshow(\"Original image\", img)\n",
    "cv2.waitKey()\n",
    "cv2.destroyAllWindows()"
   ]
  },
  {
   "cell_type": "code",
   "execution_count": 7,
   "id": "55b5449d",
   "metadata": {},
   "outputs": [],
   "source": [
    "kernal = np.ones((3,3), np.float32)/7\n",
    "\n",
    "blurred_img = cv2.filter2D(img, -1, kernal)\n",
    "cv2.imshow(\"blurred image by multiplying kernal matrix\", blurred_img)\n",
    "cv2.waitKey()\n",
    "cv2.destroyAllWindows()"
   ]
  },
  {
   "cell_type": "code",
   "execution_count": 8,
   "id": "b288c1a9",
   "metadata": {},
   "outputs": [],
   "source": [
    "# different blur techniques\n",
    "\n",
    "blur_img = cv2.blur(img, (3,3))\n",
    "cv2.imshow(\"blurr image\", blur_img)\n",
    "cv2.waitKey()\n",
    "\n",
    "Gaublur_img = cv2.GaussianBlur(img, (3,3), 0) # 0 is, OpenCV calculates it automatically based on the kernel size.\n",
    "cv2.imshow(\"GaussianBlur image\", Gaublur_img)\n",
    "cv2.waitKey()\n",
    "\n",
    "cv2.destroyAllWindows()"
   ]
  },
  {
   "cell_type": "code",
   "execution_count": 9,
   "id": "aff6cc17",
   "metadata": {},
   "outputs": [],
   "source": [
    "sharp_kernal = np.array([[-1, -1, -1], [-1, 9, -1], [-1, -1, -1]])\n",
    "\n",
    "cv2.imshow(\"Original image\", img)\n",
    "cv2.waitKey()\n",
    "\n",
    "sharp_img = cv2.filter2D(img, -1, sharp_kernal)\n",
    "\n",
    "cv2.imshow(\"sharppen image\", sharp_img)\n",
    "cv2.waitKey()\n",
    "cv2.destroyAllWindows()"
   ]
  },
  {
   "cell_type": "code",
   "execution_count": null,
   "id": "c4cda8e4",
   "metadata": {},
   "outputs": [],
   "source": []
  }
 ],
 "metadata": {
  "kernelspec": {
   "display_name": "Python (cnn_env)",
   "language": "python",
   "name": "cnn_env"
  },
  "language_info": {
   "codemirror_mode": {
    "name": "ipython",
    "version": 3
   },
   "file_extension": ".py",
   "mimetype": "text/x-python",
   "name": "python",
   "nbconvert_exporter": "python",
   "pygments_lexer": "ipython3",
   "version": "3.11.1"
  }
 },
 "nbformat": 4,
 "nbformat_minor": 5
}

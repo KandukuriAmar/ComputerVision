{
 "cells": [
  {
   "cell_type": "code",
   "execution_count": 3,
   "id": "89e4a94a",
   "metadata": {},
   "outputs": [],
   "source": [
    "import cv2\n",
    "\n",
    "img = cv2.imread(r\"C:/Users/kandu/Desktop/All sub/ComputerVision/images/sololevel.jpg\")\n",
    "cv2.imshow(\"Original Image\", img)\n",
    "cv2.waitKey()\n",
    "cv2.destroyAllWindows()"
   ]
  },
  {
   "cell_type": "code",
   "execution_count": 6,
   "id": "de347c2f",
   "metadata": {},
   "outputs": [],
   "source": [
    "# cv2.resize(img, dsize(x point, y point) or x scale, y scale, inerpolation)\n",
    "\n",
    "# reduce to half at x axis and y axis\n",
    "resized_img = cv2.resize(img, None, fx=0.5, fy=0.5)\n",
    "cv2.imshow(\"resized Image interpolation linear(default) \", resized_img)\n",
    "cv2.waitKey()\n",
    "cv2.destroyAllWindows()"
   ]
  },
  {
   "cell_type": "code",
   "execution_count": 8,
   "id": "8c14666c",
   "metadata": {},
   "outputs": [],
   "source": [
    "img = cv2.imread(r\"C:/Users/kandu/Desktop/All sub/ComputerVision/images/sololevel.jpg\")\n",
    "cv2.imshow(\"Original Image\", img)\n",
    "cv2.waitKey()\n",
    "cv2.destroyAllWindows()\n",
    "\n",
    "interresized_img = cv2.resize(img, (500, 500), interpolation=cv2.INTER_CUBIC) # interpolation is used to modify the image\n",
    "cv2.imshow(\"resized Image interpolation inter cubic \", interresized_img)\n",
    "cv2.waitKey()\n",
    "cv2.destroyAllWindows()"
   ]
  },
  {
   "cell_type": "code",
   "execution_count": 9,
   "id": "f0d2bc22",
   "metadata": {},
   "outputs": [],
   "source": [
    "img = cv2.imread(r\"C:/Users/kandu/Desktop/All sub/ComputerVision/images/sololevel.jpg\")\n",
    "cv2.imshow(\"Original Image\", img)\n",
    "cv2.waitKey()\n",
    "cv2.destroyAllWindows()\n",
    "\n",
    "h, w = img.shape[:2]\n",
    "start_row, start_col = int(h*0.25),int(w*0.25)\n",
    "end_row, end_col = int(h*0.75),int(w*0.75)\n",
    "\n",
    "cropped_img = img[start_row:end_row, start_col:end_col]\n",
    "\n",
    "cv2.imshow(\"cropped image \", cropped_img)\n",
    "cv2.waitKey()\n",
    "cv2.destroyAllWindows()"
   ]
  },
  {
   "cell_type": "code",
   "execution_count": null,
   "id": "0a66f8de",
   "metadata": {},
   "outputs": [],
   "source": []
  }
 ],
 "metadata": {
  "kernelspec": {
   "display_name": "Python (cnn_env)",
   "language": "python",
   "name": "cnn_env"
  },
  "language_info": {
   "codemirror_mode": {
    "name": "ipython",
    "version": 3
   },
   "file_extension": ".py",
   "mimetype": "text/x-python",
   "name": "python",
   "nbconvert_exporter": "python",
   "pygments_lexer": "ipython3",
   "version": "3.11.1"
  }
 },
 "nbformat": 4,
 "nbformat_minor": 5
}

{
 "cells": [
  {
   "cell_type": "code",
   "execution_count": 1,
   "id": "05b43cf9",
   "metadata": {},
   "outputs": [],
   "source": [
    "import cv2\n",
    "img = cv2.imread(r\"C:/Users/kandu/Desktop/All sub/ComputerVision/ipynb/sololevel.jpg\")\n",
    "cv2.imshow(\"Original image\", img)\n",
    "cv2.waitKey()\n",
    "cv2.destroyAllWindows()"
   ]
  },
  {
   "cell_type": "code",
   "execution_count": 9,
   "id": "6e34cf40",
   "metadata": {
    "scrolled": true
   },
   "outputs": [],
   "source": [
    "sobel_X = cv2.Sobel(img, cv2.CV_64F, 0, 1, ksize=5)\n",
    "cv2.imshow(\"sobel_X image\", sobel_X)\n",
    "cv2.waitKey()\n",
    "\n",
    "sobel_y = cv2.Sobel(img, cv2.CV_64F, 1, 0, ksize=5)\n",
    "cv2.imshow(\"sobel_y image\", sobel_y)\n",
    "cv2.waitKey()\n",
    "\n",
    "sobel_or = cv2.bitwise_or(sobel_X, sobel_y)\n",
    "cv2.imshow(\"sobel_or image\", sobel_or)\n",
    "cv2.waitKey()\n",
    "\n",
    "\n",
    "# Laplacian\n",
    "laplacian = cv2.Laplacian(img, cv2.CV_64F)\n",
    "cv2.imshow(\"Laplacian image\", laplacian)\n",
    "cv2.waitKey()\n",
    "\n",
    "# Canny\n",
    "\n",
    "## Then, we need to provide two values: threshold1 and threshold2. Any gradient value Larger than threshold2\n",
    "# is considered to be an edge. Any value below threshold1 is considered not to be an edge.\n",
    "#Values in between thresholdl and threshoLd2 are either classified as edges or non-edges based on how their\n",
    "#intensities are \"connected\". In this case, any gradient values below 60 are considered non-edges\n",
    "#whereas any values above 120 are considered edges.\n",
    "\n",
    "canny = cv2.Canny(img, 60, 120)\n",
    "cv2.imshow(\"canny image\", canny)\n",
    "cv2.waitKey()\n",
    "\n",
    "cv2.destroyAllWindows()"
   ]
  },
  {
   "cell_type": "markdown",
   "id": "f2668fbe",
   "metadata": {},
   "source": []
  },
  {
   "cell_type": "code",
   "execution_count": null,
   "id": "da4491fd",
   "metadata": {},
   "outputs": [],
   "source": []
  }
 ],
 "metadata": {
  "kernelspec": {
   "display_name": "Python (cnn_env)",
   "language": "python",
   "name": "cnn_env"
  },
  "language_info": {
   "codemirror_mode": {
    "name": "ipython",
    "version": 3
   },
   "file_extension": ".py",
   "mimetype": "text/x-python",
   "name": "python",
   "nbconvert_exporter": "python",
   "pygments_lexer": "ipython3",
   "version": "3.11.1"
  }
 },
 "nbformat": 4,
 "nbformat_minor": 5
}

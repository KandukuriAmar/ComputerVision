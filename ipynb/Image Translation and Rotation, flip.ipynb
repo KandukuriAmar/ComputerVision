{
 "cells": [
  {
   "cell_type": "code",
   "execution_count": 2,
   "id": "c43f738a",
   "metadata": {},
   "outputs": [],
   "source": [
    "import cv2\n",
    "import numpy as np"
   ]
  },
  {
   "cell_type": "code",
   "execution_count": 3,
   "id": "35ee70a3",
   "metadata": {},
   "outputs": [],
   "source": [
    "img = cv2.imread(r\"C:/Users/kandu/Desktop/All sub/ComputerVision/images/sololevel.jpg\")\n",
    "cv2.imshow(\"Original Image\", img)\n",
    "cv2.waitKey()\n",
    "cv2.destroyAllWindows()"
   ]
  },
  {
   "cell_type": "code",
   "execution_count": 4,
   "id": "78e9a9ad",
   "metadata": {},
   "outputs": [],
   "source": [
    "height, width = img.shape[:2]\n",
    "new_h, new_w = height / 4, width / 4\n",
    "\n",
    "Translation = np.float32([[1, 0, new_w], [0, 1, new_h]])\n",
    "translated_img = cv2.warpAffine(img, Translation, (width, height))\n",
    "\n",
    "cv2.imshow(\"Translated Image\", translated_img)\n",
    "cv2.waitKey(0)\n",
    "cv2.destroyAllWindows()"
   ]
  },
  {
   "cell_type": "code",
   "execution_count": 5,
   "id": "14fa4fc9",
   "metadata": {},
   "outputs": [],
   "source": [
    "#rotation\n",
    "\n",
    "img = cv2.imread(r\"C:/Users/kandu/Desktop/All sub/ComputerVision/images/sololevel.jpg\")\n",
    "cv2.imshow(\"Original Image\", img)\n",
    "cv2.waitKey()\n",
    "cv2.destroyAllWindows()"
   ]
  },
  {
   "cell_type": "code",
   "execution_count": 7,
   "id": "1d17b72f",
   "metadata": {},
   "outputs": [],
   "source": [
    "height, width = img.shape[:2]\n",
    "rotation_matrix = cv2.getRotationMatrix2D((height/2, width/2), 90, 0.5)\n",
    "rotated_img = cv2.warpAffine(img, rotation_matrix, (width, height))\n",
    "\n",
    "cv2.imshow(\"Rotated Image\", rotated_img)\n",
    "cv2.waitKey(0)\n",
    "cv2.destroyAllWindows()"
   ]
  },
  {
   "cell_type": "code",
   "execution_count": 9,
   "id": "e97f13e6",
   "metadata": {},
   "outputs": [],
   "source": [
    "# transpose rotation\n",
    "img = cv2.imread(r\"C:/Users/kandu/Desktop/All sub/ComputerVision/images/sololevel.jpg\")\n",
    "cv2.imshow(\"Original Image\", img)\n",
    "cv2.waitKey()\n",
    "# cv2.destroyAllWindows()\n",
    "\n",
    "transposed_img = cv2.transpose(img) # difference b/w tanspose and rotation is in transpose it become full screen after rotating to 90\n",
    "\n",
    "cv2.imshow(\"Transposed Image\", transposed_img)\n",
    "cv2.waitKey()\n",
    "cv2.destroyAllWindows()"
   ]
  },
  {
   "cell_type": "code",
   "execution_count": 11,
   "id": "6b0e8e7d",
   "metadata": {},
   "outputs": [],
   "source": [
    "img = cv2.imread(r\"C:/Users/kandu/Desktop/All sub/ComputerVision/images/sololevel.jpg\")\n",
    "cv2.imshow(\"Original Image\", img)\n",
    "cv2.waitKey()\n",
    "\n",
    "flipped_img = cv2.flip(img, 1) # horizontal flip\n",
    "cv2.imshow(\"flipped Image\", flipped_img)\n",
    "cv2.waitKey()\n",
    "cv2.destroyAllWindows()\n",
    "\n",
    "flipped_img = cv2.flip(img, -1) # vertical flip\n",
    "cv2.imshow(\"flipped Image\", flipped_img)\n",
    "cv2.waitKey()\n",
    "cv2.destroyAllWindows()"
   ]
  },
  {
   "cell_type": "code",
   "execution_count": null,
   "id": "dfaeb85d",
   "metadata": {},
   "outputs": [],
   "source": []
  }
 ],
 "metadata": {
  "kernelspec": {
   "display_name": "Python (cnn_env)",
   "language": "python",
   "name": "cnn_env"
  },
  "language_info": {
   "codemirror_mode": {
    "name": "ipython",
    "version": 3
   },
   "file_extension": ".py",
   "mimetype": "text/x-python",
   "name": "python",
   "nbconvert_exporter": "python",
   "pygments_lexer": "ipython3",
   "version": "3.11.1"
  }
 },
 "nbformat": 4,
 "nbformat_minor": 5
}

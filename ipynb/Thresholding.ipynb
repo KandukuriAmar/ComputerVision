{
 "cells": [
  {
   "cell_type": "code",
   "execution_count": 7,
   "id": "abc6b038",
   "metadata": {},
   "outputs": [],
   "source": [
    "import cv2\n",
    "\n",
    "img = cv2.imread(r\"C:/Users/kandu/Desktop/All sub/ComputerVision/images/forThreshold.jpg\")\n",
    "\n",
    "cv2.imshow(\"Original image\", img)\n",
    "cv2.waitKey()\n",
    "cv2.destroyAllWindows()"
   ]
  },
  {
   "cell_type": "code",
   "execution_count": null,
   "id": "9a6739ff",
   "metadata": {},
   "outputs": [],
   "source": [
    "# here below 127 pixel becomes 0 (black) above becomes 255(white)\n",
    "_, thres1 = cv2.threshold(img, 127, 255, cv2.THRESH_BINARY)\n",
    "cv2.imshow(\"thres1 binary image\", thres1)\n",
    "cv2.waitKey()\n",
    "\n",
    "_, thres2 = cv2.threshold(img, 127, 255, cv2.THRESH_BINARY_INV)\n",
    "cv2.imshow(\"thres2 binary image\", thres2)\n",
    "cv2.waitKey()\n",
    "\n",
    "# the above 127 will be written as 127 only\n",
    "_, thres3 = cv2.threshold(img, 127, 255, cv2.THRESH_TRUNC)\n",
    "cv2.imshow(\"thres3 binary image\", thres3)\n",
    "cv2.waitKey()\n",
    "\n",
    "# the below 127 become 0 and remaining unchanged\n",
    "_, thres4 = cv2.threshold(img, 127, 255, cv2.THRESH_TOZERO)\n",
    "cv2.imshow(\"thres4 binary image\", thres4)\n",
    "cv2.waitKey()\n",
    "\n",
    "# above 127 becomes 0 remaining unchanged\n",
    "_, thres5 = cv2.threshold(img, 127, 255, cv2.THRESH_TOZERO_INV)\n",
    "cv2.imshow(\"thres5 binary image\", thres5)\n",
    "cv2.waitKey()\n",
    "\n",
    "cv2.destroyAllWindows()"
   ]
  },
  {
   "cell_type": "code",
   "execution_count": null,
   "id": "6071acc3",
   "metadata": {},
   "outputs": [],
   "source": []
  }
 ],
 "metadata": {
  "kernelspec": {
   "display_name": "Python (cnn_env)",
   "language": "python",
   "name": "cnn_env"
  },
  "language_info": {
   "codemirror_mode": {
    "name": "ipython",
    "version": 3
   },
   "file_extension": ".py",
   "mimetype": "text/x-python",
   "name": "python",
   "nbconvert_exporter": "python",
   "pygments_lexer": "ipython3",
   "version": "3.11.1"
  }
 },
 "nbformat": 4,
 "nbformat_minor": 5
}

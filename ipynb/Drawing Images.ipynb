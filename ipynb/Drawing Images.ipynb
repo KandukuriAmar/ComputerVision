{
 "cells": [
  {
   "cell_type": "code",
   "execution_count": 14,
   "id": "ba91fe3e",
   "metadata": {},
   "outputs": [],
   "source": [
    "import cv2\n",
    "import numpy as np"
   ]
  },
  {
   "cell_type": "code",
   "execution_count": 15,
   "id": "1df26a24",
   "metadata": {},
   "outputs": [],
   "source": [
    "forLine = np.zeros((512, 512, 3), np.uint8)\n",
    "\n",
    "cv2.imshow(\"black screen created\", forLine)\n",
    "cv2.waitKey()\n",
    "cv2.destroyAllWindows()"
   ]
  },
  {
   "cell_type": "code",
   "execution_count": 16,
   "id": "67be8493",
   "metadata": {},
   "outputs": [],
   "source": [
    "cv2.line(forLine, (0, 0), (511, 511), (255, 123, 0), 4) # line(blackimg, startpoint(row, col), endpoint, rgb color, line thickness)\n",
    "cv2.imshow(\"Line draw\", forLine)\n",
    "cv2.waitKey()\n",
    "cv2.destroyAllWindows()"
   ]
  },
  {
   "cell_type": "code",
   "execution_count": 17,
   "id": "3c89aa25",
   "metadata": {},
   "outputs": [],
   "source": [
    "forRec = np.zeros((255, 255, 3), np.uint8)\n",
    "cv2.rectangle(forRec, (100,100), (200, 200), (234, 135, 6), -1) # -1 represents fill all inside the rectangle with that color\n",
    "cv2.imshow(\"Rectangle draw\", forRec)\n",
    "cv2.waitKey()\n",
    "cv2.destroyAllWindows()"
   ]
  },
  {
   "cell_type": "code",
   "execution_count": 20,
   "id": "c64bc5e6",
   "metadata": {},
   "outputs": [],
   "source": [
    "forCircle = np.zeros((512, 512, 3), np.uint8)\n",
    "cv2.circle(forCircle, (98, 97), 56, (234, 135, 6), -1) # circle(forRec, center, radius, rgb, fill) fill == thickness\n",
    "cv2.imshow(\"Circle draw\", forCircle)\n",
    "cv2.waitKey()\n",
    "cv2.destroyAllWindows()"
   ]
  },
  {
   "cell_type": "code",
   "execution_count": 25,
   "id": "fa081df8",
   "metadata": {},
   "outputs": [],
   "source": [
    "forText = np.zeros((512, 512), np.uint8)\n",
    "cv2.putText(forText, \"durga devi\", (128, 128), cv2.FONT_HERSHEY_SIMPLEX, 2, (234, 135, 6), 4) #putText(image, name, startpoint, font, font_size, color, thickness)\n",
    "cv2.imshow(\"Text draw\", forText)\n",
    "cv2.waitKey()\n",
    "cv2.destroyAllWindows()"
   ]
  },
  {
   "cell_type": "code",
   "execution_count": null,
   "id": "df9a22f7",
   "metadata": {},
   "outputs": [],
   "source": []
  }
 ],
 "metadata": {
  "kernelspec": {
   "display_name": "Python (cnn_env)",
   "language": "python",
   "name": "cnn_env"
  },
  "language_info": {
   "codemirror_mode": {
    "name": "ipython",
    "version": 3
   },
   "file_extension": ".py",
   "mimetype": "text/x-python",
   "name": "python",
   "nbconvert_exporter": "python",
   "pygments_lexer": "ipython3",
   "version": "3.11.1"
  }
 },
 "nbformat": 4,
 "nbformat_minor": 5
}

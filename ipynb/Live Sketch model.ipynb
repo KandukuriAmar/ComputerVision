{
 "cells": [
  {
   "cell_type": "code",
   "execution_count": 10,
   "id": "cd2e35e8",
   "metadata": {},
   "outputs": [],
   "source": [
    "import cv2\n",
    "\n",
    "def sketch(img):\n",
    "    # colored image to grey \n",
    "    grey_img = cv2.cvtColor(img, cv2.COLOR_BGR2GRAY)\n",
    "    \n",
    "    # for blur guassianBlur\n",
    "    blur_img = cv2.GaussianBlur(grey_img, (5,5), 0)\n",
    "    \n",
    "    # extract edges\n",
    "    canny = cv2.Canny(blur_img, 60, 120)\n",
    "    \n",
    "    # threshold\n",
    "    _, thres = cv2.threshold(canny, 120, 225, cv2.THRESH_BINARY)\n",
    "    \n",
    "    return thres"
   ]
  },
  {
   "cell_type": "code",
   "execution_count": 11,
   "id": "e154b0ef",
   "metadata": {},
   "outputs": [],
   "source": [
    "cap = cv2.VideoCapture(0) # 0 is no.of cameras means - 1\n",
    "\n",
    "while(True):\n",
    "    _, frame = cap.read() # return boolean (it tell which image got correctly or not) and image.\n",
    "    cv2.imshow(\"my LiveSketch Project\", sketch(frame))\n",
    "    \n",
    "    if(cv2.waitKey(1) == 13): # 13 means enter key\n",
    "        break\n",
    "\n",
    "cap.release()\n",
    "cv2.destroyAllWindows()"
   ]
  },
  {
   "cell_type": "code",
   "execution_count": null,
   "id": "d8f139ab",
   "metadata": {},
   "outputs": [],
   "source": []
  },
  {
   "cell_type": "code",
   "execution_count": null,
   "id": "c2226033",
   "metadata": {},
   "outputs": [],
   "source": []
  },
  {
   "cell_type": "code",
   "execution_count": null,
   "id": "ac3c74ce",
   "metadata": {},
   "outputs": [],
   "source": []
  }
 ],
 "metadata": {
  "kernelspec": {
   "display_name": "Python (cnn_env)",
   "language": "python",
   "name": "cnn_env"
  },
  "language_info": {
   "codemirror_mode": {
    "name": "ipython",
    "version": 3
   },
   "file_extension": ".py",
   "mimetype": "text/x-python",
   "name": "python",
   "nbconvert_exporter": "python",
   "pygments_lexer": "ipython3",
   "version": "3.11.1"
  }
 },
 "nbformat": 4,
 "nbformat_minor": 5
}

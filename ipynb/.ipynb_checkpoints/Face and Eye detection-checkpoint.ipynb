{
 "cells": [
  {
   "cell_type": "code",
   "execution_count": 3,
   "id": "4fb81729",
   "metadata": {},
   "outputs": [],
   "source": [
    "import cv2\n",
    "import numpy as np"
   ]
  },
  {
   "cell_type": "code",
   "execution_count": 9,
   "id": "0af07730",
   "metadata": {},
   "outputs": [],
   "source": [
    "harcascadefaces = cv2.CascadeClassifier(r\"C:/Users/kandu/Desktop/All sub/ComputerVision/haarcascades/haarcascade_frontalface_default.xml\")"
   ]
  },
  {
   "cell_type": "code",
   "execution_count": 5,
   "id": "2469d821",
   "metadata": {},
   "outputs": [
    {
     "name": "stdout",
     "output_type": "stream",
     "text": [
      "No. of faces detected: 4\n"
     ]
    }
   ],
   "source": [
    "# face detection\n",
    "img = cv2.imread(r\"C:/Users/kandu/Pictures/IMG_2052.JPG\")\n",
    "cv2.imshow(\"Original Image\", img)\n",
    "cv2.waitKey()\n",
    "\n",
    "gray_img = cv2.cvtColor(img, cv2.COLOR_BGR2GRAY)\n",
    "faces = harcascadefaces.detectMultiScale(gray_img, 1.3, 5)\n",
    "\n",
    "if len(faces) == 0:\n",
    "    print(f\"No. of faces detected: {len(faces)}\")\n",
    "    \n",
    "for (x, y, w, h) in faces:\n",
    "    cv2.rectangle(img, (x, y), (x+w, y+h), (0, 233,123), 3)\n",
    "    cv2.imshow(\"Faces Detected Image\", img)\n",
    "    cv2.waitKey()\n",
    "print(f\"No. of faces detected: {len(faces)}\")\n",
    "    \n",
    "cv2.destroyAllWindows()"
   ]
  },
  {
   "cell_type": "code",
   "execution_count": 6,
   "id": "fb0c2835",
   "metadata": {},
   "outputs": [
    {
     "name": "stdout",
     "output_type": "stream",
     "text": [
      "No. of faces detected: 1\n"
     ]
    }
   ],
   "source": [
    "import cv2\n",
    "\n",
    "# Load Haarcascade classifiers\n",
    "# harcascadefaces = cv2.CascadeClassifier(r\"C:/Users/kandu/Desktop/All sub/ComputerVision/haarcascades/haarcascade_frontalface_default.xml\")\n",
    "harcascadeeyes = cv2.CascadeClassifier(r\"C:/Users/kandu/Desktop/All sub/ComputerVision/haarcascades/haarcascade_eye.xml\")\n",
    "\n",
    "# Load image\n",
    "img = cv2.imread(r\"C:/Users/kandu/Pictures/baa.JPG\")\n",
    "cv2.imshow(\"Original Image\", img)\n",
    "cv2.waitKey(0)\n",
    "cv2.destroyAllWindows()\n",
    "\n",
    "# Convert image to grayscale\n",
    "gray_img = cv2.cvtColor(img, cv2.COLOR_BGR2GRAY)\n",
    "\n",
    "# Detect faces\n",
    "faces = harcascadefaces.detectMultiScale(gray_img, scaleFactor=1.3, minNeighbors=5)\n",
    "\n",
    "print(f\"No. of faces detected: {len(faces)}\")\n",
    "\n",
    "for (x, y, w, h) in faces:\n",
    "    cv2.rectangle(img, (x, y), (x + w, y + h), (0, 123, 223), 2)\n",
    "    cv2.imshow(\"Image\", img)\n",
    "    cv2.waitKey(0)\n",
    "\n",
    "    # Extract the face region\n",
    "    gray_face_region = gray_img[y:y + h, x:x + w]\n",
    "    color_face_region = img[y:y + h, x:x + w]\n",
    "\n",
    "    # Detect eyes inside the face region\n",
    "    eyes = harcascadeeyes.detectMultiScale(gray_face_region, scaleFactor=1.1, minNeighbors=4)\n",
    "\n",
    "    for (ex, ey, ew, eh) in eyes:\n",
    "        cv2.rectangle(color_face_region, (ex, ey), (ex + ew, ey + eh), (122, 223, 123), 2)\n",
    "        cv2.imshow(\"Faces & Eyes Detection\", img)\n",
    "        cv2.waitKey(0)\n",
    "cv2.destroyAllWindows()\n"
   ]
  },
  {
   "cell_type": "code",
   "execution_count": 10,
   "id": "a6f6d43a",
   "metadata": {},
   "outputs": [],
   "source": [
    "# trying on webcam\n",
    "def findingFace(img):\n",
    "    gray_img = cv2.cvtColor(img, cv2.COLOR_BGR2GRAY)\n",
    "    faces = harcascadefaces.detectMultiScale(gray_img, 1.1, 6)  # resize 1.3(scaleFactor) time smaller at each iterator for more accuracy and 5 is minNeighbors Minimum number of rectangle or faces to find in picture\n",
    "\n",
    "#     print(f\"No. of faces detected: {len(faces)}\")\n",
    "\n",
    "    # (x, y) = Top-left corner of the detected face.\n",
    "    # (w, h) = Width and height of the face.\n",
    "    for i, (x, y, w, h) in enumerate(faces):\n",
    "        face_label = f\"Face: {i+1}\"  # Label face\n",
    "        cv2.rectangle(img, (x, y), (x + w, y + h), (0, 123, 223), 2)\n",
    "        cv2.putText(img, face_label, (x, y - 10), cv2.FONT_HERSHEY_SIMPLEX, 0.6, (0, 123, 223), 1)\n",
    "        \n",
    "        # Extract the face region\n",
    "        gray_face_region = gray_img[y:y + h, x:x + w]\n",
    "        color_face_region = img[y:y + h, x:x + w]\n",
    "\n",
    "        # Detect eyes inside the face region\n",
    "        eyes = harcascadeeyes.detectMultiScale(gray_face_region, scaleFactor=1.1, minNeighbors=4)\n",
    "        \n",
    "        # Detect eyes inside the face region\n",
    "        smiles = harcascadesmiles.detectMultiScale(gray_face_region, scaleFactor=1.1, minNeighbors=4)\n",
    "\n",
    "        for j, (ex, ey, ew, eh) in enumerate(eyes):\n",
    "            eye_label = f\"Eye: {j+1}\"  # Label eyes\n",
    "            cv2.rectangle(color_face_region, (ex, ey), (ex + ew, ey + eh), (122, 223, 123), 2)\n",
    "            cv2.putText(color_face_region, eye_label, (ex, ey - 10), cv2.FONT_HERSHEY_SIMPLEX, 0.5, (122, 223, 123), 1)\n",
    "        \n",
    "\n",
    "    return img"
   ]
  },
  {
   "cell_type": "code",
   "execution_count": 11,
   "id": "a5bbc4f7",
   "metadata": {},
   "outputs": [],
   "source": [
    "cap = cv2.VideoCapture(0)\n",
    "\n",
    "while True:\n",
    "    _, frame = cap.read()\n",
    "    detected_frame = findingFace(frame)  \n",
    "    cv2.imshow(\"Faces & Eyes Detection\", detected_frame)  \n",
    "    \n",
    "    if cv2.waitKey(1) == 13:  \n",
    "        break\n",
    "\n",
    "cap.release()\n",
    "cv2.destroyAllWindows()"
   ]
  },
  {
   "cell_type": "code",
   "execution_count": null,
   "id": "89b22e15",
   "metadata": {},
   "outputs": [],
   "source": []
  }
 ],
 "metadata": {
  "kernelspec": {
   "display_name": "Python (cnn_env)",
   "language": "python",
   "name": "cnn_env"
  },
  "language_info": {
   "codemirror_mode": {
    "name": "ipython",
    "version": 3
   },
   "file_extension": ".py",
   "mimetype": "text/x-python",
   "name": "python",
   "nbconvert_exporter": "python",
   "pygments_lexer": "ipython3",
   "version": "3.11.1"
  }
 },
 "nbformat": 4,
 "nbformat_minor": 5
}

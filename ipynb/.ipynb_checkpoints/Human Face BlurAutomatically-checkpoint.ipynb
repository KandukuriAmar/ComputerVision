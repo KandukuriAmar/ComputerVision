{
 "cells": [
  {
   "cell_type": "code",
   "execution_count": 2,
   "id": "3c10dec5",
   "metadata": {},
   "outputs": [],
   "source": [
    "import cv2"
   ]
  },
  {
   "cell_type": "code",
   "execution_count": 6,
   "id": "87425b42",
   "metadata": {},
   "outputs": [],
   "source": [
    "harcascadefaces = cv2.CascadeClassifier(r\"C:/Users/kandu/Desktop/All sub/ComputerVision/haarcascades/haarcascade_frontalface_default.xml\")\n",
    "cap = cv2.VideoCapture(0)\n",
    "\n",
    "while True:\n",
    "    ret, frame = cap.read()\n",
    "    \n",
    "    gray_img = cv2.cvtColor(frame, cv2.COLOR_BGR2GRAY)\n",
    "    faces = harcascadefaces.detectMultiScale(gray_img, 1.1, 6)\n",
    "    \n",
    "    for (x,y,w,h) in faces:\n",
    "        frame[y:y+h, x:x+w] = cv2.medianBlur(frame[y:y+h, x:x+w], 25)\n",
    "    cv2.imshow(\"Blured Face\", frame)\n",
    "    cv2.putText(frame, \"BlurImg\", (x,y-10), cv2.FONT_HERSHEY_SIMPLEX, 0.6, (123, 222, 111), 1)\n",
    "    \n",
    "    if cv2.waitKey(1) == 13:\n",
    "        break\n",
    "cap.release()\n",
    "cv2.destroyAllWindows()"
   ]
  },
  {
   "cell_type": "code",
   "execution_count": null,
   "id": "a34e6a4c",
   "metadata": {},
   "outputs": [],
   "source": []
  }
 ],
 "metadata": {
  "kernelspec": {
   "display_name": "Python (cnn_env)",
   "language": "python",
   "name": "cnn_env"
  },
  "language_info": {
   "codemirror_mode": {
    "name": "ipython",
    "version": 3
   },
   "file_extension": ".py",
   "mimetype": "text/x-python",
   "name": "python",
   "nbconvert_exporter": "python",
   "pygments_lexer": "ipython3",
   "version": "3.11.1"
  }
 },
 "nbformat": 4,
 "nbformat_minor": 5
}

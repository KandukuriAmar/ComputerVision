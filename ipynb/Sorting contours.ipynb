{
 "cells": [
  {
   "cell_type": "code",
   "execution_count": 47,
   "id": "973bae39",
   "metadata": {},
   "outputs": [],
   "source": [
    "import cv2\n",
    "import numpy as np"
   ]
  },
  {
   "cell_type": "code",
   "execution_count": 48,
   "id": "58eb5eb8",
   "metadata": {},
   "outputs": [],
   "source": [
    "# img = cv2.imread(r\"C:/Users/kandu/Desktop/All sub/ComputerVision/ipynb/box.jpg\")\n",
    "img = cv2.imread(\"C:/Users/kandu/Desktop/All sub/ComputerVision/images/boxes.jpg\")\n",
    "cv2.imshow(\"Original Image\", img)\n",
    "cv2.waitKey()\n",
    "cv2.destroyAllWindows()"
   ]
  },
  {
   "cell_type": "code",
   "execution_count": 49,
   "id": "be4a74a5",
   "metadata": {},
   "outputs": [],
   "source": [
    "blank_img = np.zeros((img.shape[0], img.shape[1], 3))"
   ]
  },
  {
   "cell_type": "code",
   "execution_count": 50,
   "id": "b05bcd83",
   "metadata": {},
   "outputs": [
    {
     "name": "stdout",
     "output_type": "stream",
     "text": [
      "Contours: 23\n"
     ]
    }
   ],
   "source": [
    "original_img = img\n",
    "\n",
    "gray_img = cv2.cvtColor(img, cv2.COLOR_BGR2GRAY)\n",
    "edges = cv2.Canny(gray_img, 60, 120)\n",
    "cv2.imshow(\"canny Image\", edges)\n",
    "cv2.waitKey()\n",
    "cv2.destroyAllWindows()\n",
    "\n",
    "contours, heirachy = cv2.findContours(edges, cv2.RETR_EXTERNAL, cv2.CHAIN_APPROX_NONE)\n",
    "print(f\"Contours: {len(contours)}\")\n",
    "\n",
    "\n",
    "cv2.drawContours(blank_img, contours, -1, (0, 178, 133), 2)\n",
    "cv2.imshow(\"drawing contours\", blank_img)\n",
    "cv2.waitKey()\n",
    "\n",
    "cv2.drawContours(original_img, contours, -1, (123, 123, 123), 2)\n",
    "cv2.imshow(\"drawing contours\", original_img)\n",
    "cv2.waitKey()\n",
    "\n",
    "cv2.destroyAllWindows()\n"
   ]
  },
  {
   "cell_type": "code",
   "execution_count": 51,
   "id": "f530a5a7",
   "metadata": {},
   "outputs": [
    {
     "name": "stdout",
     "output_type": "stream",
     "text": [
      "contours before sorting\n",
      "[14359.0, 28009.0, 19862.5, 0.0, 0.5, 0.0, 0.5, 0.0, 5.5, 5.5, 0.0, 0.5, 11.5, 21.0, 30.5, 2.0, 0.5, 74.5, 18.0, 129.5, 120.0, 185.5, 724.0]\n",
      "contours after sorting\n",
      "[28009.0, 19862.5, 14359.0, 724.0, 185.5, 129.5, 120.0, 74.5, 30.5, 21.0, 18.0, 11.5, 5.5, 5.5, 2.0, 0.5, 0.5, 0.5, 0.5, 0.0, 0.0, 0.0, 0.0]\n"
     ]
    }
   ],
   "source": [
    "def giveListofArea(contours):\n",
    "    a = []\n",
    "    for cn in contours:\n",
    "        area = cv2.contourArea(cn)\n",
    "        a.append(area)\n",
    "    return a\n",
    "\n",
    "\n",
    "\n",
    "# img = cv2.imread(r\"C:/Users/kandu/Desktop/All sub/ComputerVision/ipynb/box.jpg\")\n",
    "img = cv2.imread(\"C:/Users/kandu/Desktop/All sub/ComputerVision/images/boxes.jpg\")\n",
    "\n",
    "cv2.imshow(\"next imaage\", img)\n",
    "cv2.waitKey()\n",
    "cv2.destroyAllWindows()\n",
    "\n",
    "original_img = img\n",
    "\n",
    "print(\"contours before sorting\")\n",
    "print(giveListofArea(contours))\n",
    "\n",
    "contours = sorted(contours, key = cv2.contourArea, reverse=True)\n",
    "\n",
    "print(\"contours after sorting\")\n",
    "print(giveListofArea(contours))\n",
    "\n",
    "i=0\n",
    "for c in contours:\n",
    "    cv2.drawContours(original_img, [c], -1, (225, 63, 232), 2)\n",
    "    i+=1\n",
    "    cv2.imshow(f\"Drawing sorted image by area: {i}\", original_img)\n",
    "    cv2.waitKey(0)\n",
    "\n",
    "cv2.waitKey()\n",
    "cv2.destroyAllWindows()"
   ]
  },
  {
   "cell_type": "code",
   "execution_count": null,
   "id": "b722a818",
   "metadata": {},
   "outputs": [],
   "source": []
  },
  {
   "cell_type": "code",
   "execution_count": null,
   "id": "d6de2f60",
   "metadata": {},
   "outputs": [],
   "source": []
  },
  {
   "cell_type": "code",
   "execution_count": null,
   "id": "ea66c508",
   "metadata": {},
   "outputs": [],
   "source": []
  },
  {
   "cell_type": "code",
   "execution_count": null,
   "id": "9c4894ab",
   "metadata": {},
   "outputs": [],
   "source": []
  },
  {
   "cell_type": "code",
   "execution_count": null,
   "id": "525e9e77",
   "metadata": {},
   "outputs": [],
   "source": []
  },
  {
   "cell_type": "code",
   "execution_count": null,
   "id": "4daaf8e1",
   "metadata": {},
   "outputs": [],
   "source": []
  },
  {
   "cell_type": "code",
   "execution_count": null,
   "id": "b51a4efe",
   "metadata": {},
   "outputs": [],
   "source": []
  },
  {
   "cell_type": "code",
   "execution_count": null,
   "id": "f1c25140",
   "metadata": {},
   "outputs": [],
   "source": []
  },
  {
   "cell_type": "code",
   "execution_count": null,
   "id": "caa74e07",
   "metadata": {},
   "outputs": [],
   "source": []
  },
  {
   "cell_type": "code",
   "execution_count": null,
   "id": "7d25e963",
   "metadata": {},
   "outputs": [],
   "source": []
  },
  {
   "cell_type": "code",
   "execution_count": null,
   "id": "cf12e00d",
   "metadata": {},
   "outputs": [],
   "source": []
  },
  {
   "cell_type": "code",
   "execution_count": null,
   "id": "2eee7169",
   "metadata": {},
   "outputs": [],
   "source": []
  }
 ],
 "metadata": {
  "kernelspec": {
   "display_name": "Python (cnn_env)",
   "language": "python",
   "name": "cnn_env"
  },
  "language_info": {
   "codemirror_mode": {
    "name": "ipython",
    "version": 3
   },
   "file_extension": ".py",
   "mimetype": "text/x-python",
   "name": "python",
   "nbconvert_exporter": "python",
   "pygments_lexer": "ipython3",
   "version": "3.11.1"
  }
 },
 "nbformat": 4,
 "nbformat_minor": 5
}
